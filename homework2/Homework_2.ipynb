{
 "cells": [
  {
   "cell_type": "code",
   "execution_count": 1,
   "metadata": {
    "collapsed": true,
    "deletable": true,
    "editable": true
   },
   "outputs": [],
   "source": [
    "# Homework 2: Word Similarity"
   ]
  },
  {
   "cell_type": "markdown",
   "metadata": {
    "collapsed": true,
    "deletable": true,
    "editable": true
   },
   "source": [
    "Student Name:Shenglu Zhang\n",
    "\n",
    "Student ID:795682\n",
    "\n",
    "Python version used:3.5"
   ]
  },
  {
   "cell_type": "markdown",
   "metadata": {
    "deletable": true,
    "editable": true
   },
   "source": [
    "## General info"
   ]
  },
  {
   "cell_type": "markdown",
   "metadata": {
    "deletable": true,
    "editable": true
   },
   "source": [
    "<b>Due date</b>: 1pm, Sunday April 1st\n",
    "\n",
    "<b>Submission method</b>: see LMS\n",
    "\n",
    "<b>Submission materials</b>: completed copy of this iPython notebook\n",
    "\n",
    "<b>Late submissions</b>: -20% per day\n",
    "\n",
    "<b>Marks</b>: 5% of mark for class\n",
    "\n",
    "<b>Overview</b>: In this homework, you'll be quantifying the similarity between pairs of words using the structure of WordNet and word co-occurrence in the Brown corpus, using PMI, LSA, and word2vec. You will quantify how well these methods work by comparing to a carefully filtered human annotated gold-standard.\n",
    "\n",
    "<b>Materials</b>: See the main class LMS page for information on the basic setup required for this class, including an iPython notebook viewer and the python packages NLTK, Numpy, Scipy, Matplotlib, Scikit-Learn, and Gensim. In particular, if you are not using a lab computer which already has it installed, we recommend installing all the data for NLTK, since you will need various parts of it to complete this assignment. You can also use any Python built-in packages, but do not use any other 3rd party packages; if your iPython notebook doesn't run on the marker's machine, you will lose marks. <b> It is recommended to use Python 2 but we accept Python 3 solutions</b>. Make sure you state which version you used in the beggining of this notebook.\n",
    "\n",
    "<b>Evaluation</b>: Your iPython notebook should run end-to-end without any errors in a reasonable amount of time, and you must follow all instructions provided below, including specific implementation requirements and instructions for what needs to be printed (please avoid printing output we don't ask for). You should leave the output from running your code in the iPython notebook you submit, to assist with marking. The amount each section is worth is given in parenthesis after the instructions. You will be marked not only on the correctness of your methods, but also the quality and efficency of your code: in particular, you should be careful to use Python built-in functions and operators when appropriate and pick descriptive variable names that adhere to <a href=\"https://www.python.org/dev/peps/pep-0008/\">Python style requirements</a>. If you think it might be unclear what you are doing, you should comment your code to help the marker make sense of it.\n",
    "\n",
    "<b>Extra credit</b>: Each homework has a task which is optional with respect to getting full marks on the assignment, but that can be used to offset any points lost on this or any other homework assignment (but not the final project or the exam). We recommend you skip over this step on your first pass, and come back if you have time: the amount of effort required to receive full marks (1 point) on an extra credit question will be substantially more than earning the same amount of credit on other parts of the homework.\n",
    "\n",
    "<b>Updates</b>: Any major changes to the assignment will be announced via LMS. Minor changes and clarifications will be announced in the forum on LMS, we recommend you check the forum regularly.\n",
    "\n",
    "<b>Academic Misconduct</b>: For most people, collaboration will form a natural part of the undertaking of this homework, and we encourge you to discuss it in general terms with other students. However, this ultimately is still an individual task, and so reuse of code or other instances of clear influence will be considered cheating. We will be checking submissions for originality and will invoke the University’s <a href=\"http://academichonesty.unimelb.edu.au/policy.html\">Academic Misconduct policy</a> where inappropriate levels of collusion or plagiarism are deemed to have taken place.\n"
   ]
  },
  {
   "cell_type": "markdown",
   "metadata": {
    "collapsed": true,
    "deletable": true,
    "editable": true
   },
   "source": [
    "<b>Instructions</b>: For this homework we will be comparing our methods against a popular dataset of word similarities called Similarity-353. You need to first obtain this data set, which can be downloaded <a href=\"http://www.cs.technion.ac.il/~gabr/resources/data/wordsim353/wordsim353.zip\">here</a>. The file we will be using is called *combined.tab*. Except for the header (which should be stripped out), the file is tab formated with the first two columns corresponding to two words, and the third column representing a human-annotated similarity between the two words.\n",
    "\n",
    "Assume the file *combined.tab* is located <b>in the same folder as this notebook</b>. You should load this file into a Python dictionary (NOTE: in Python, tuples of strings, i.e. (\"tiger\",\"cat\") can serve as the keys of dictionaries). This dataset contains many rare words: we need to filter this dataset in order for it to be better suited to the resources we will use in this assignment. So your first goal is to filter this dataset to generate a smaller test set where you will evaluate your word similarity methods.\n",
    "\n",
    "The first filtering is based on document frequencies in the Brown corpus, in order to remove rare words. In this assignment, we will be treating the <i>paragraphs</i> of the Brown corpus as our \"documents\", you can iterate over them by using the `paras` method of the corpus reader. You should start by creating a Python list where each element of the list is a set containing the word <b>types</b> from a different paragraph of the Brown corpus: the words should be lower-cased and lemmatized before they are added to the set (keep it around, because you will need this list again later on). Then, using the information in this corpus, calculate document frequencies and remove from your test set any word pairs where at least one of the two words has a document frequency of less than 10 in this corpus. \n",
    "\n",
    "The second filtering is based on words with highly ambiguous senses and involves using the NLTK interface to WordNet. Here, you should remove any words which do not have a *single primary sense*. We define single primary sense here as either having only one sense (i.e. only one synset), or where the count (as provided by the WordNet `count()` method for the lemmas associated with a synset) of the most common sense is at least five and at least five times larger than the next most common sense. Also, you should remove any words where the primary sense is not a noun (this information is also in the synset). Store the synset corresponding to this primary sense in a dictionary for use in the next section. Given this definition, remove any word pairs from the test set where at least one of the words does not contain a single primary sense or if the single primary sense is not a noun.\n",
    "\n",
    "When you have applied these two filtering steps, print out all the pairs in your filtered test set (if you have done this correctly, the total should be more than 10, but less than 50).\n",
    "\n",
    "(1.5 marks)"
   ]
  },
  {
   "cell_type": "code",
   "execution_count": 1,
   "metadata": {
    "collapsed": false,
    "deletable": true,
    "editable": true
   },
   "outputs": [
    {
     "name": "stdout",
     "output_type": "stream",
     "text": [
      "[nltk_data] Downloading package brown to D:\\nltk_data...\n",
      "[nltk_data]   Package brown is already up-to-date!\n",
      "['professor', 'doctor', '6.62']\n",
      "['stock', 'egg', '1.81']\n",
      "['baby', 'mother', '7.85']\n",
      "['car', 'automobile', '8.94']\n",
      "['journey', 'voyage', '9.29']\n",
      "['coast', 'shore', '9.10']\n",
      "['brother', 'monk', '6.27']\n",
      "['journey', 'car', '5.85']\n",
      "['coast', 'hill', '4.38']\n",
      "['monk', 'slave', '0.92']\n",
      "['coast', 'forest', '3.15']\n",
      "['psychology', 'doctor', '6.42']\n",
      "['psychology', 'mind', '7.69']\n",
      "['psychology', 'health', '7.23']\n",
      "['psychology', 'science', '6.71']\n",
      "['computer', 'laboratory', '6.78']\n",
      "['canyon', 'landscape', '7.53']\n",
      "['century', 'year', '7.59']\n",
      "['doctor', 'personnel', '5.00']\n",
      "['school', 'center', '3.44']\n",
      "['word', 'similarity', '4.75']\n",
      "['hotel', 'reservation', '8.03']\n",
      "['type', 'kind', '8.97']\n",
      "['equipment', 'maker', '5.91']\n",
      "['luxury', 'car', '6.47']\n",
      "['soap', 'opera', '7.94']\n",
      "['planet', 'people', '5.75']\n"
     ]
    }
   ],
   "source": [
    "import nltk,operator\n",
    "nltk.download(\"brown\")\n",
    "from nltk.corpus import brown\n",
    "from nltk.stem import WordNetLemmatizer\n",
    "lemmatizer = WordNetLemmatizer()\n",
    "def lemmatize(word):\n",
    "    lemma = lemmatizer.lemmatize(word,'v')\n",
    "    if lemma == word:\n",
    "        lemma = lemmatizer.lemmatize(word,'n')\n",
    "    return lemma\n",
    "import re\n",
    "def isWord(word):\n",
    "    result=re.match(r'[a-zA-Z]+',word)\n",
    "    if result is None:\n",
    "        return False\n",
    "    else:\n",
    "        return True\n",
    "    \n",
    "docs=[]\n",
    "for para in brown.paras():\n",
    "\tdocs.append(para)\n",
    "\n",
    "\n",
    "doc_set_list=[]\n",
    "doc_freq={}\n",
    "for para in docs:\n",
    "    doc_set=set()\n",
    "    for sentence in para:\n",
    "        for word in sentence:\n",
    "            if isWord(word):\n",
    "                word=word.lower()\n",
    "                word=lemmatize(word)\n",
    "                doc_set.add(word)\n",
    "    doc_set_list.append(doc_set)\n",
    "for item in doc_set_list:\n",
    "    for word in item:\n",
    "        doc_freq[word]=doc_freq.get(word,0)+1\n",
    "\n",
    "words_file=open('combined.tab','r',encoding=\"utf8\")\n",
    "line_num=0;\n",
    "word_similarity=[]\n",
    "for line in words_file:\n",
    "    if line_num==0:\n",
    "        line_num+=1\n",
    "        continue\n",
    "    else:\n",
    "        line_parts=line.split()\n",
    "        word_similarity.append(line_parts)\n",
    "\n",
    "def first_filter(words,doc_freq):\n",
    "    new_words=[]\n",
    "    for item in words:\n",
    "        if(doc_freq.get(item[0],0)>=10 and doc_freq.get(item[1],0)>=10):\n",
    "            new_words.append(item)\n",
    "    return new_words\n",
    "word_similarity=first_filter(word_similarity,doc_freq)\n",
    "from nltk.corpus import wordnet as wn\n",
    "#this function returns the most common sense and second common sense of synsets\n",
    "def lemma_count(word,synsets):\n",
    "    counts={}\n",
    "    for synset in synsets:\n",
    "        count=0\n",
    "        for lemma in synset.lemmas():\n",
    "            if word ==lemma.name():\n",
    "                count=count+lemma.count()\n",
    "        counts[synset.name()]=counts.get(synset.name(),0)+count\n",
    "    counts=sorted(counts.items(),key=operator.itemgetter(1),reverse= True)\n",
    "    return counts[0],counts[1]\n",
    "    \n",
    "\n",
    "# return a boolean value, if the input word has a singe primary sense,then return True,else return False\n",
    "def single_sense(word):\n",
    "    noun_str='.n.'\n",
    "    synsets=wn.synsets(word)\n",
    "    if len(synsets)==1 and noun_str in synsets[0].name():\n",
    "        return True,synsets[0].name()\n",
    "    most_count,second_count=lemma_count(word,synsets)\n",
    "    if most_count[1]>=5 and most_count[1]>=5*second_count[1] and noun_str in most_count[0]:\n",
    "        return True,most_count[0]\n",
    "    return False,None\n",
    "    \n",
    "def second_filter(words):\n",
    "    word_sense=[]\n",
    "    word_similarity=[]    \n",
    "    for item in words:\n",
    "        word_pair={}\n",
    "        bool1,sense1=single_sense(item[0])\n",
    "        bool2,sense2=single_sense(item[1])\n",
    "        if bool1 and bool2:\n",
    "            word_pair[item[0]]=sense1\n",
    "            word_pair[item[1]]=sense2\n",
    "            word_sense.append(word_pair)\n",
    "            word_similarity.append(item)\n",
    "    return word_sense,word_similarity\n",
    "\n",
    "word_sense,word_similarity=second_filter(word_similarity)\n",
    "for word in word_similarity:\n",
    "    print(word)"
   ]
  },
  {
   "cell_type": "markdown",
   "metadata": {
    "deletable": true,
    "editable": true
   },
   "source": [
    "<b>Instructions</b>: Now you will create several dictionaries with similarity scores for pairs of words in your test set derived using the techniques discussed in class. The first of these is the Wu-Palmer scores derived from the hypernym relationships in WordNet, which you should calculate using the primary sense for each word derived above. You can use the built-in method included in the NLTK interface, you don't have to implement your own. When you're done,  print out the Python dictionary of word pair/similarity mappings. \n",
    "\n",
    "(0.5 marks)"
   ]
  },
  {
   "cell_type": "code",
   "execution_count": 3,
   "metadata": {
    "collapsed": false,
    "deletable": true,
    "editable": true
   },
   "outputs": [
    {
     "name": "stdout",
     "output_type": "stream",
     "text": [
      "------WP_similarity--------------\n",
      "(('similarity', 'word'), 0.3333333333333333)\n",
      "(('soap', 'opera'), 0.2222222222222222)\n",
      "(('psychology', 'mind'), 0.5714285714285714)\n",
      "(('doctor', 'personnel'), 0.13333333333333333)\n",
      "(('stock', 'egg'), 0.11764705882352941)\n",
      "(('type', 'kind'), 0.9473684210526315)\n",
      "(('hill', 'coast'), 0.6666666666666666)\n",
      "(('psychology', 'health'), 0.21052631578947367)\n",
      "(('maker', 'equipment'), 0.5)\n",
      "(('mother', 'baby'), 0.5)\n",
      "(('century', 'year'), 0.8333333333333334)\n",
      "(('car', 'journey'), 0.09523809523809523)\n",
      "(('coast', 'forest'), 0.16666666666666666)\n",
      "(('doctor', 'professor'), 0.5)\n",
      "(('psychology', 'science'), 0.9411764705882353)\n",
      "(('hotel', 'reservation'), 0.375)\n",
      "(('luxury', 'car'), 0.1111111111111111)\n",
      "(('doctor', 'psychology'), 0.1111111111111111)\n",
      "(('center', 'school'), 0.13333333333333333)\n",
      "(('planet', 'people'), 0.18181818181818182)\n",
      "(('canyon', 'landscape'), 0.3333333333333333)\n",
      "(('journey', 'voyage'), 0.8571428571428571)\n",
      "(('laboratory', 'computer'), 0.35294117647058826)\n",
      "(('slave', 'monk'), 0.6666666666666666)\n",
      "(('brother', 'monk'), 0.5714285714285714)\n",
      "(('car', 'automobile'), 1.0)\n",
      "(('shore', 'coast'), 0.9090909090909091)\n"
     ]
    }
   ],
   "source": [
    "word_wp_score={}\n",
    "for word_pair in word_sense:\n",
    "    word1=list(word_pair.keys())[0]\n",
    "    word2=list(word_pair.keys())[1]\n",
    "    word_wp_score[word1,word2]=wn.synset(word_pair[word1]).wup_similarity(wn.synset(word_pair[word2]))\n",
    "print('------WP_similarity--------------')\n",
    "word_wpscore_list=[(k,v) for k,v in word_wp_score.items()]\n",
    "for score in word_wpscore_list:\n",
    "    print(score)"
   ]
  },
  {
   "cell_type": "markdown",
   "metadata": {
    "deletable": true,
    "editable": true
   },
   "source": [
    "**Instructions:** Next, you will calculate Positive PMI (PPMI) for your word pairs using statistics derived from the Brown: you should use the same set up as you did to calculate document frequency above: paragraphs as documents, lemmatized, lower-cased, and with term frequency information removed by conversion to Python sets. You need to use the basic method for calculating PPMI introduced in class (and also in the reading) which is appropriate for any possible definition of co-occurrence (here, appearing in the same paragraph), but you should only calculate PPMI for the words in your test set. You must avoid building the entire co-occurrence matrix, instead you should keeping track of the sums you need for the probabilities as you go along. When you have calculated PMI for all the pairs, your code should print out the Python dictionary of word-pair/PPMI-similarity mappings.\n",
    "\n",
    "(1 mark)"
   ]
  },
  {
   "cell_type": "code",
   "execution_count": 4,
   "metadata": {
    "collapsed": false,
    "deletable": true,
    "editable": true
   },
   "outputs": [
    {
     "name": "stdout",
     "output_type": "stream",
     "text": [
      "-----PPMI------------\n",
      "(('soap', 'opera'), 9.68820034480337)\n",
      "(('psychology', 'mind'), 8.234400594245404)\n",
      "(('doctor', 'personnel'), 7.63013128854784)\n",
      "(('stock', 'egg'), 7.177238425525991)\n",
      "(('type', 'kind'), 6.070724133544106)\n",
      "(('planet', 'people'), 5.874235965846784)\n",
      "(('psychology', 'health'), 0)\n",
      "(('professor', 'doctor'), 0)\n",
      "(('journey', 'car'), 0)\n",
      "(('century', 'year'), 6.322216464518382)\n",
      "(('word', 'similarity'), 0)\n",
      "(('school', 'center'), 6.09424906085496)\n",
      "(('baby', 'mother'), 8.566282766033577)\n",
      "(('coast', 'forest'), 8.449340711878152)\n",
      "(('coast', 'hill'), 6.611893724664112)\n",
      "(('psychology', 'science'), 10.54550165864841)\n",
      "(('hotel', 'reservation'), 8.358051743111039)\n",
      "(('luxury', 'car'), 7.739332554013687)\n",
      "(('canyon', 'landscape'), 0)\n",
      "(('coast', 'shore'), 10.029580802356906)\n",
      "(('journey', 'voyage'), 0)\n",
      "(('equipment', 'maker'), 9.750317934731225)\n",
      "(('monk', 'slave'), 0)\n",
      "(('psychology', 'doctor'), 8.974085689765202)\n",
      "(('computer', 'laboratory'), 0)\n",
      "(('brother', 'monk'), 8.366272249916008)\n",
      "(('car', 'automobile'), 8.75193259079332)\n"
     ]
    }
   ],
   "source": [
    "from math import log\n",
    "def cal_PPMI(word1,word2):\n",
    "    sum_x=0\n",
    "    sum_y=0\n",
    "    sum_xy=0.0\n",
    "    doc_len=0\n",
    "    for para in doc_set_list:\n",
    "        doc_len=doc_len+len(para)\n",
    "        if word1 in para:\n",
    "            sum_x+=1\n",
    "        if word2 in para:\n",
    "            sum_y+=1\n",
    "        if word1 in para and word2 in para:\n",
    "            sum_xy+=1\n",
    "    if sum_xy==0:\n",
    "        return 0\n",
    "    return log(sum_xy*doc_len/(sum_x*sum_y),2)\n",
    "\n",
    "word_PMI={}\n",
    "for pair in word_similarity:\n",
    "    word_PMI[pair[0],pair[1]]=cal_PPMI(word1=pair[0],word2=pair[1])\n",
    "print('-----PPMI------------')\n",
    "word_PMI_list=[(k,v) for k,v in word_PMI.items()]\n",
    "for pmi in word_PMI_list:    \n",
    "    print(pmi)"
   ]
  },
  {
   "cell_type": "markdown",
   "metadata": {
    "deletable": true,
    "editable": true
   },
   "source": [
    "**Instructions:** Next, you will derive similarity scores using the LSA method, i.e. apply SVD and truncate to get a dense vector and then use cosine similarity between the two vectors for each word pair. You can use the Distributed Semantics notebook as a starting point, but note that since you are interested here in word semantics, you will be constructing a matrix where the (non-sparse) rows correspond to words in the vocabulary, and the (sparse) columns correspond to the texts where they appear (this is the opposite of the notebook). Again, use the Brown corpus, in the same format as with PMI and document frequency. After you have a matrix in the correct format, use truncatedSVD in Sci-kit learn to produce dense vectors of length 500, and then use cosine similarity to produce similarities for your word pairs. Print out the corresponding Python dictionary.\n",
    "\n",
    "(1 mark)"
   ]
  },
  {
   "cell_type": "code",
   "execution_count": 5,
   "metadata": {
    "collapsed": false,
    "deletable": true,
    "editable": true
   },
   "outputs": [
    {
     "name": "stdout",
     "output_type": "stream",
     "text": [
      "------cosine similarity---------\n",
      "(('soap', 'opera'), 0.00025964372628661803)\n",
      "(('psychology', 'mind'), 0.12813886007943509)\n",
      "(('doctor', 'personnel'), 0.074921573022329158)\n",
      "(('stock', 'egg'), 0.13346460249343828)\n",
      "(('type', 'kind'), 0.027548256088371748)\n",
      "(('planet', 'people'), 0.035719182555899454)\n",
      "(('psychology', 'health'), 0.031756471135822473)\n",
      "(('professor', 'doctor'), 0.060523962932479525)\n",
      "(('journey', 'car'), 0.0044085526717014822)\n",
      "(('century', 'year'), 0.070397957995586014)\n",
      "(('word', 'similarity'), -0.0022969287162977192)\n",
      "(('school', 'center'), 0.044219865934668756)\n",
      "(('baby', 'mother'), 0.32932135237253335)\n",
      "(('coast', 'forest'), 0.14955707541810959)\n",
      "(('coast', 'hill'), 0.23082207163089419)\n",
      "(('psychology', 'science'), 0.25243848713189676)\n",
      "(('hotel', 'reservation'), 0.088228424951277473)\n",
      "(('luxury', 'car'), 0.072459673138526082)\n",
      "(('canyon', 'landscape'), 0.10818575989492718)\n",
      "(('coast', 'shore'), 0.39518445564382532)\n",
      "(('journey', 'voyage'), 0.10080315413157059)\n",
      "(('equipment', 'maker'), 0.27076240444478716)\n",
      "(('monk', 'slave'), -0.014281726778772263)\n",
      "(('psychology', 'doctor'), 0.091279360175279822)\n",
      "(('computer', 'laboratory'), 0.092534316244905823)\n",
      "(('brother', 'monk'), 0.088363295234310191)\n",
      "(('car', 'automobile'), 0.33454420292501474)\n"
     ]
    }
   ],
   "source": [
    "from sklearn.feature_extraction import DictVectorizer\n",
    "def get_BOW(word_set):\n",
    "    BOW={}\n",
    "    for word in word_set:\n",
    "        BOW[word]=BOW.get(word,0)+1\n",
    "    return BOW\n",
    "doc_BOW=[]\n",
    "for para in doc_set_list:\n",
    "    doc_BOW.append(get_BOW(para))\n",
    "vectorizer = DictVectorizer()\n",
    "brown_matrix = vectorizer.fit_transform(doc_BOW).transpose()\n",
    "word_list=vectorizer.get_feature_names()\n",
    "from sklearn.decomposition import TruncatedSVD\n",
    "svd = TruncatedSVD(n_components=500)\n",
    "brown_matrix = svd.fit_transform(brown_matrix)\n",
    "\n",
    "from scipy.spatial.distance import cosine as cos_distance\n",
    "def cal_cosine(word1,word2):\n",
    "    index1=word_list.index(word1)\n",
    "    index2=word_list.index(word2)\n",
    "    vect1=brown_matrix[index1]\n",
    "    vect2=brown_matrix[index2]\n",
    "    return 1-cos_distance(vect1,vect2)\n",
    "word_cos={}\n",
    "for pair in word_similarity:\n",
    "    word_cos[pair[0],pair[1]]=cal_cosine(pair[0],pair[1])\n",
    "print('------cosine similarity---------')\n",
    "word_cos_list=[(k,v) for k,v in word_cos.items()]\n",
    "for cos in word_cos_list:    \n",
    "    print(cos)"
   ]
  },
  {
   "cell_type": "markdown",
   "metadata": {
    "deletable": true,
    "editable": true
   },
   "source": [
    "**Instructions:** Next, you will derive a similarity score from word2vec vectors, using the Gensim interface. Check the Gensim word2vec tutorial for details on the API: https://radimrehurek.com/gensim/models/word2vec.html. Again, you should use the Brown for this, but for word2vec you don't need to worry about paragraphs: feel free to train your model at the sentence level instead. Your vectors should have the same number of dimensions as LSA (500), and you need to run for 50 iterations. This may take a while (several minutes), but that's okay, you won't be marked based on the speed of this. You should extract the similarites you need directly from the Gensim model, put them in a Python dictionary, and print them out.\n",
    "\n",
    "(0.5 mark)"
   ]
  },
  {
   "cell_type": "code",
   "execution_count": 6,
   "metadata": {
    "collapsed": false,
    "deletable": true,
    "editable": true
   },
   "outputs": [
    {
     "name": "stderr",
     "output_type": "stream",
     "text": [
      "C:\\Users\\zsl\\AppData\\Local\\Enthought\\Canopy\\edm\\envs\\User\\lib\\site-packages\\gensim\\utils.py:1197: UserWarning: detected Windows; aliasing chunkize to chunkize_serial\n",
      "  warnings.warn(\"detected Windows; aliasing chunkize to chunkize_serial\")\n"
     ]
    },
    {
     "name": "stdout",
     "output_type": "stream",
     "text": [
      "------gensim_similarity---------\n",
      "(('soap', 'opera'), -0.0088188472188100997)\n",
      "(('psychology', 'mind'), 0.039572662774232145)\n",
      "(('doctor', 'personnel'), -0.097432954302824809)\n",
      "(('stock', 'egg'), 0.14654004902004897)\n",
      "(('type', 'kind'), 0.28293432515256745)\n",
      "(('planet', 'people'), -0.021094552976027192)\n",
      "(('psychology', 'health'), 0.1984679528379848)\n",
      "(('professor', 'doctor'), 0.10186272540240561)\n",
      "(('journey', 'car'), 0.19510848962704364)\n",
      "(('century', 'year'), 0.26906763797736022)\n",
      "(('word', 'similarity'), 0.042937133433088963)\n",
      "(('school', 'center'), -0.042526015157573427)\n",
      "(('baby', 'mother'), 0.21179388750586547)\n",
      "(('coast', 'forest'), 0.24821613388580582)\n",
      "(('coast', 'hill'), 0.43814520923570377)\n",
      "(('psychology', 'science'), 0.34627418639805718)\n",
      "(('hotel', 'reservation'), 0.069781898075272936)\n",
      "(('luxury', 'car'), 0.17803111841588426)\n",
      "(('canyon', 'landscape'), 0.18487182783360856)\n",
      "(('coast', 'shore'), 0.41827670293537644)\n",
      "(('journey', 'voyage'), 0.47153198406543079)\n",
      "(('equipment', 'maker'), 0.22233223978138)\n",
      "(('monk', 'slave'), 0.026987328492447754)\n",
      "(('psychology', 'doctor'), 0.01772162867628678)\n",
      "(('computer', 'laboratory'), 0.13105113920212871)\n",
      "(('brother', 'monk'), 0.020909402095267642)\n",
      "(('car', 'automobile'), 0.17264971024116713)\n"
     ]
    }
   ],
   "source": [
    "from gensim.models import Word2Vec\n",
    "sents=brown.sents()\n",
    "model = Word2Vec(sents, size=500, window=6, min_count=5, workers=4,iter=50)\n",
    "word_gensim={}\n",
    "for pair in word_similarity:\n",
    "    word_gensim[pair[0],pair[1]]=model.wv.similarity(pair[0],pair[1])\n",
    "print('------gensim_similarity---------')\n",
    "word_gensim_list=[(k,v) for k,v in word_gensim.items()]\n",
    "for line in word_gensim_list:    \n",
    "    print(line)"
   ]
  },
  {
   "cell_type": "markdown",
   "metadata": {
    "deletable": true,
    "editable": true
   },
   "source": [
    "\n",
    "**Instructions:** Finally, you should compare all the similarities you've created to the gold standard you loaded and filtered in the first step. For this, you can use the Pearson correlation co-efficient (`pearsonr`), which is included in scipy (`scipy.stats`). Be careful converting your dictionaries to lists for this purpose, the data for the two datasets needs to be in the same order for correct comparison using correlation. Write a general function, then apply it to each of the similarity score dictionaries, and print out the result for each (be sure to label them!). Hint: All of the methods used here should be markedly above 0, but also far from 1 (perfect correlation); if you're not getting reasonable results, go back and check your code for bugs!  \n",
    "\n",
    "(0.5 mark)\n"
   ]
  },
  {
   "cell_type": "code",
   "execution_count": 7,
   "metadata": {
    "collapsed": false,
    "deletable": true,
    "editable": true
   },
   "outputs": [
    {
     "name": "stdout",
     "output_type": "stream",
     "text": [
      "\n",
      "-------golden standard vs Wu_Palmer Similarity-------\n",
      "0.333937557663\n",
      "\n",
      "-------golden standard vs PPMI-------\n",
      "0.089410098586\n",
      "\n",
      "-------golden standard vs cosine similarity-------\n",
      "0.0554687060471\n",
      "\n",
      "-------golden standard vs gensim-------\n",
      "0.194608882863\n"
     ]
    }
   ],
   "source": [
    "from scipy import stats\n",
    "def norm_list(aList):\n",
    "    new_list=[]\n",
    "    for line in aList:\n",
    "        list_parts=[]\n",
    "        list_temp=list(line[0])\n",
    "        list_temp.sort()\n",
    "        list_parts.append(list_temp)\n",
    "        list_parts.append(line[1])\n",
    "        new_list.append(list_parts)\n",
    "    new_list=sorted(new_list, key=lambda x:x[0][0])\n",
    "    final_list=[]\n",
    "    for line in new_list:\n",
    "        final_list.append(line[1])\n",
    "    return final_list\n",
    "test_list=[]\n",
    "for word in word_similarity:\n",
    "    line_part=[word[0],word[1]]\n",
    "    line_parts=[line_part,float(word[2])]\n",
    "    test_list.append(line_parts)\n",
    "test_list=norm_list(test_list)\n",
    "word_gensim_list=norm_list(word_gensim_list)\n",
    "word_cos_list=norm_list(word_cos_list)\n",
    "word_wpscore_list=norm_list(word_wpscore_list)\n",
    "word_PMI_list=norm_list(word_PMI_list)\n",
    "print()\n",
    "print('-------golden standard vs Wu_Palmer Similarity-------')\n",
    "print(stats.pearsonr(test_list,word_wpscore_list)[0])\n",
    "print()\n",
    "print('-------golden standard vs PPMI-------')\n",
    "print(stats.pearsonr(test_list,word_PMI_list)[0])\n",
    "print()\n",
    "print('-------golden standard vs cosine similarity-------')\n",
    "print(stats.pearsonr(test_list,word_cos_list)[0])\n",
    "print()\n",
    "print('-------golden standard vs gensim-------')\n",
    "print(stats.pearsonr(test_list,word_gensim_list)[0])"
   ]
  },
  {
   "cell_type": "markdown",
   "metadata": {
    "deletable": true,
    "editable": true
   },
   "source": [
    "## Bonus: Improving the correlation"
   ]
  },
  {
   "cell_type": "markdown",
   "metadata": {
    "deletable": true,
    "editable": true
   },
   "source": [
    "**Instructions:** To get the extra credit, you should try to get a noticeably (at least 0.05) higher correlation than that of the highest correlation that you found in the main assignment. To accomplish this, you can use any resources included or accessible via NLTK EXCEPT the Google word2vec vectors. Half of your mark here will be based on the thought and effort involved in your solution (if you tried something sensible that didn't work, show us), the other half will be based on the actual performance increase, which you should demonstrate. For full credit, be sure to explain exactly what you are doing.\n",
    "\n",
    "(1 bonus mark) "
   ]
  },
  {
   "cell_type": "code",
   "execution_count": null,
   "metadata": {
    "collapsed": true,
    "deletable": true,
    "editable": true
   },
   "outputs": [],
   "source": []
  },
  {
   "cell_type": "markdown",
   "metadata": {
    "deletable": true,
    "editable": true
   },
   "source": [
    "## A final word\n",
    "\n",
    "Normally, we would not use a corpus as small as the Brown for the purposes of building distributional word vectors. Also, note that filtering our test set to just words we are likely to do well on would typically be considered cheating."
   ]
  }
 ],
 "metadata": {
  "anaconda-cloud": {},
  "kernelspec": {
   "display_name": "Python 3",
   "language": "python",
   "name": "python3"
  },
  "language_info": {
   "codemirror_mode": {
    "name": "ipython",
    "version": 3
   },
   "file_extension": ".py",
   "mimetype": "text/x-python",
   "name": "python",
   "nbconvert_exporter": "python",
   "pygments_lexer": "ipython3",
   "version": "3.5.2"
  }
 },
 "nbformat": 4,
 "nbformat_minor": 1
}
